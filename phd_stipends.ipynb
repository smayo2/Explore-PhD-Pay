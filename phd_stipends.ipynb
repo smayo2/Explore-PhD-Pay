{
  "nbformat": 4,
  "nbformat_minor": 0,
  "metadata": {
    "colab": {
      "name": "phd_stipends.ipynb",
      "provenance": [],
      "collapsed_sections": [],
      "authorship_tag": "ABX9TyNK/2YqrE6MQcnQwzA6s59w",
      "include_colab_link": true
    },
    "kernelspec": {
      "name": "python3",
      "display_name": "Python 3"
    }
  },
  "cells": [
    {
      "cell_type": "markdown",
      "metadata": {
        "id": "view-in-github",
        "colab_type": "text"
      },
      "source": [
        "<a href=\"https://colab.research.google.com/github/smayo2/Explore-PhD-Pay/blob/master/phd_stipends.ipynb\" target=\"_parent\"><img src=\"https://colab.research.google.com/assets/colab-badge.svg\" alt=\"Open In Colab\"/></a>"
      ]
    },
    {
      "cell_type": "markdown",
      "metadata": {
        "id": "1wcGWuIdJBXQ",
        "colab_type": "text"
      },
      "source": [
        "This project explores PhD stipends across universities. Dataset can be found in [on the Kaggle website](https://www.kaggle.com/paultimothymooney/phd-stipends/data). The original data is from http://www.phdstipends.com/csv. \n",
        "\n",
        "A First Draft..."
      ]
    },
    {
      "cell_type": "code",
      "metadata": {
        "id": "UWRUDTGOWXra",
        "colab_type": "code",
        "colab": {}
      },
      "source": [
        "import pandas as pd\n",
        "import numpy as np\n",
        "import io\n",
        "from scipy.stats import zscore\n",
        "import matplotlib.pyplot as plt\n",
        "import seaborn as sns\n",
        "sns.set(style=\"ticks\")"
      ],
      "execution_count": 174,
      "outputs": []
    },
    {
      "cell_type": "markdown",
      "metadata": {
        "id": "DTq-ePB684Lo",
        "colab_type": "text"
      },
      "source": [
        ""
      ]
    },
    {
      "cell_type": "code",
      "metadata": {
        "id": "ejmDm2diDlaI",
        "colab_type": "code",
        "colab": {}
      },
      "source": [
        "#read data file\n",
        "file_URL = \"https://drive.google.com/file/d/1lp09EJkJJkhKcU_67PSQ27rdunDB4NWK/view?usp=sharing\"\n",
        "data_path = 'https://drive.google.com/uc?export=download&id='+file_URL.split('/')[-2]\n",
        "\n",
        "df = pd.read_csv(data_path)"
      ],
      "execution_count": 175,
      "outputs": []
    },
    {
      "cell_type": "markdown",
      "metadata": {
        "id": "2j4fIreDIvar",
        "colab_type": "text"
      },
      "source": [
        "Get basic characteristics like size and summary statistics\n"
      ]
    },
    {
      "cell_type": "code",
      "metadata": {
        "id": "FbCVRw_HI-H7",
        "colab_type": "code",
        "colab": {
          "base_uri": "https://localhost:8080/",
          "height": 653
        },
        "outputId": "80197b73-ba21-4f12-9fc3-6ba88381d018"
      },
      "source": [
        "display(df.head())\n",
        "display (\"Size of Data:\", df.shape)\n",
        "display(df.info())\n",
        "\n",
        "#not using comments column, so dropping\n",
        "df.drop(columns = \"Comments\", inplace=True)"
      ],
      "execution_count": 176,
      "outputs": [
        {
          "output_type": "display_data",
          "data": {
            "text/html": [
              "<div>\n",
              "<style scoped>\n",
              "    .dataframe tbody tr th:only-of-type {\n",
              "        vertical-align: middle;\n",
              "    }\n",
              "\n",
              "    .dataframe tbody tr th {\n",
              "        vertical-align: top;\n",
              "    }\n",
              "\n",
              "    .dataframe thead th {\n",
              "        text-align: right;\n",
              "    }\n",
              "</style>\n",
              "<table border=\"1\" class=\"dataframe\">\n",
              "  <thead>\n",
              "    <tr style=\"text-align: right;\">\n",
              "      <th></th>\n",
              "      <th>University</th>\n",
              "      <th>Department</th>\n",
              "      <th>Overall Pay</th>\n",
              "      <th>LW Ratio</th>\n",
              "      <th>Academic Year</th>\n",
              "      <th>Program Year</th>\n",
              "      <th>12 M Gross Pay</th>\n",
              "      <th>9 M Gross Pay</th>\n",
              "      <th>3 M Gross Pay</th>\n",
              "      <th>Fees</th>\n",
              "      <th>Comments</th>\n",
              "    </tr>\n",
              "  </thead>\n",
              "  <tbody>\n",
              "    <tr>\n",
              "      <th>0</th>\n",
              "      <td>University of Tennessee - Knoxville</td>\n",
              "      <td>Economics</td>\n",
              "      <td>$1,850</td>\n",
              "      <td>0.09</td>\n",
              "      <td>2020-2021</td>\n",
              "      <td>1st</td>\n",
              "      <td>NaN</td>\n",
              "      <td>$1,850</td>\n",
              "      <td>NaN</td>\n",
              "      <td>NaN</td>\n",
              "      <td>NaN</td>\n",
              "    </tr>\n",
              "    <tr>\n",
              "      <th>1</th>\n",
              "      <td>University of Arizona (U of A)</td>\n",
              "      <td>Economics</td>\n",
              "      <td>$21,000</td>\n",
              "      <td>1.01</td>\n",
              "      <td>2020-2021</td>\n",
              "      <td>1st</td>\n",
              "      <td>NaN</td>\n",
              "      <td>$21,000</td>\n",
              "      <td>NaN</td>\n",
              "      <td>NaN</td>\n",
              "      <td>$10500 per semester. RA/TA required. Need to p...</td>\n",
              "    </tr>\n",
              "    <tr>\n",
              "      <th>2</th>\n",
              "      <td>University of Arizona (U of A)</td>\n",
              "      <td>Economics</td>\n",
              "      <td>$19,800</td>\n",
              "      <td>0.96</td>\n",
              "      <td>2020-2021</td>\n",
              "      <td>1st</td>\n",
              "      <td>NaN</td>\n",
              "      <td>$21,000</td>\n",
              "      <td>NaN</td>\n",
              "      <td>$1,200</td>\n",
              "      <td>NaN</td>\n",
              "    </tr>\n",
              "    <tr>\n",
              "      <th>3</th>\n",
              "      <td>University of Florida</td>\n",
              "      <td>ECE</td>\n",
              "      <td>$22,600</td>\n",
              "      <td>NaN</td>\n",
              "      <td>2020-2021</td>\n",
              "      <td>1st</td>\n",
              "      <td>$24,000</td>\n",
              "      <td>NaN</td>\n",
              "      <td>NaN</td>\n",
              "      <td>$1,400</td>\n",
              "      <td>NaN</td>\n",
              "    </tr>\n",
              "    <tr>\n",
              "      <th>4</th>\n",
              "      <td>University of Virginia (UVA)</td>\n",
              "      <td>ECE</td>\n",
              "      <td>$26,000</td>\n",
              "      <td>1.14</td>\n",
              "      <td>2020-2021</td>\n",
              "      <td>1st</td>\n",
              "      <td>$26,000</td>\n",
              "      <td>NaN</td>\n",
              "      <td>NaN</td>\n",
              "      <td>NaN</td>\n",
              "      <td>NaN</td>\n",
              "    </tr>\n",
              "  </tbody>\n",
              "</table>\n",
              "</div>"
            ],
            "text/plain": [
              "                            University  ...                                           Comments\n",
              "0  University of Tennessee - Knoxville  ...                                                NaN\n",
              "1       University of Arizona (U of A)  ...  $10500 per semester. RA/TA required. Need to p...\n",
              "2       University of Arizona (U of A)  ...                                                NaN\n",
              "3                University of Florida  ...                                                NaN\n",
              "4         University of Virginia (UVA)  ...                                                NaN\n",
              "\n",
              "[5 rows x 11 columns]"
            ]
          },
          "metadata": {
            "tags": []
          }
        },
        {
          "output_type": "display_data",
          "data": {
            "application/vnd.google.colaboratory.intrinsic": {
              "type": "string"
            },
            "text/plain": [
              "'Size of Data:'"
            ]
          },
          "metadata": {
            "tags": []
          }
        },
        {
          "output_type": "display_data",
          "data": {
            "text/plain": [
              "(8707, 11)"
            ]
          },
          "metadata": {
            "tags": []
          }
        },
        {
          "output_type": "stream",
          "text": [
            "<class 'pandas.core.frame.DataFrame'>\n",
            "RangeIndex: 8707 entries, 0 to 8706\n",
            "Data columns (total 11 columns):\n",
            " #   Column          Non-Null Count  Dtype  \n",
            "---  ------          --------------  -----  \n",
            " 0   University      8444 non-null   object \n",
            " 1   Department      8247 non-null   object \n",
            " 2   Overall Pay     8686 non-null   object \n",
            " 3   LW Ratio        7796 non-null   float64\n",
            " 4   Academic Year   8703 non-null   object \n",
            " 5   Program Year    7687 non-null   object \n",
            " 6   12 M Gross Pay  6209 non-null   object \n",
            " 7   9 M Gross Pay   2474 non-null   object \n",
            " 8   3 M Gross Pay   798 non-null    object \n",
            " 9   Fees            3352 non-null   object \n",
            " 10  Comments        2155 non-null   object \n",
            "dtypes: float64(1), object(10)\n",
            "memory usage: 748.4+ KB\n"
          ],
          "name": "stdout"
        },
        {
          "output_type": "display_data",
          "data": {
            "text/plain": [
              "None"
            ]
          },
          "metadata": {
            "tags": []
          }
        }
      ]
    },
    {
      "cell_type": "code",
      "metadata": {
        "id": "5Bp-D5_reI90",
        "colab_type": "code",
        "colab": {}
      },
      "source": [
        "#helper functions\n",
        "\n",
        "#get total annual pay: by adding summer pay to 9 months pay, where applicable\n",
        "def calc_total_income(row):\n",
        "  twelve_mth_pay = row[\"12 M Gross Pay\"]\n",
        "  if twelve_mth_pay==0:\n",
        "    return row[\"9 M Gross Pay\"]+ row[\"3 M Gross Pay\"]\n",
        "  else: return twelve_mth_pay\n"
      ],
      "execution_count": 177,
      "outputs": []
    },
    {
      "cell_type": "markdown",
      "metadata": {
        "id": "XdC3Tgk0JpM5",
        "colab_type": "text"
      },
      "source": [
        "From the describe method of the dataframe, we see most columns have many missing values. Also most of the data are in string format. We can address these issues as follows."
      ]
    },
    {
      "cell_type": "code",
      "metadata": {
        "id": "IwrlD0T1JrgD",
        "colab_type": "code",
        "colab": {}
      },
      "source": [
        "#replace null values\n",
        "df[\"University\"].fillna(\"Unspecified\", inplace = True)\n",
        "df[\"Department\"].fillna(\"Unspecified\", inplace = True)\n",
        "\n",
        "#get list of abbreviated departments\n",
        "#display(df[(df[\"Department\"].apply(len)<5)][\"Department\"].value_counts().head(3))\n",
        "df.dropna(subset=[\"Overall Pay\"], inplace=True)\n",
        "\n",
        "#convert salaries to numeric \n",
        "money_columns = [\"Overall Pay\", \"12 M Gross Pay\", \"9 M Gross Pay\",\\\n",
        "                 \"3 M Gross Pay\", \"Fees\"] \n",
        "\n",
        "df[money_columns] = df[money_columns].apply(lambda x: x.str.replace(\",\", \"\")\\\n",
        "                                            .str.replace(\"$\", \"\")\\\n",
        "                                            .astype(\"float\")) \n",
        "\n"
      ],
      "execution_count": 178,
      "outputs": []
    },
    {
      "cell_type": "code",
      "metadata": {
        "id": "N6W6T_8ug8P-",
        "colab_type": "code",
        "colab": {
          "base_uri": "https://localhost:8080/",
          "height": 347
        },
        "outputId": "71ad20cf-bf04-4c8a-8cc0-e7e57828bd6f"
      },
      "source": [
        "\n",
        "#strip away \"st\", \"nd\" etc, assuming that program year is single digit\n",
        "#if year is NaN replace with zero\n",
        "df[\"Program Year\"].fillna(0, inplace=True)\n",
        "df[\"Program Year\"] = df[\"Program Year\"].apply(lambda x: str(x)[0])\\\n",
        "                        .astype(\"int\")\n",
        "\n",
        "#looking at output we see outliers \n",
        "df = df[(np.abs(zscore(df[\"Overall Pay\"])) < 3)]\n",
        "\n",
        "df[\"Overall Pay\"].fillna(df[\"Overall Pay\"].median(), inplace = True) \n",
        "\n",
        "#handle NaNs for academic year:very few, so can drop\n",
        "df.dropna(subset=[\"Academic Year\"], inplace=True)\n",
        "\n",
        "#consider numeric columns\n",
        "numeric_columns = df.select_dtypes('number').columns\n",
        "#Most NaN are in non-applicable fields, so replacing with zero \n",
        "df[numeric_columns] = df[numeric_columns].fillna(0) \n",
        "\n",
        "#create a column with total 12 month gross income\n",
        "df[\"Total Income\"] = df.apply(calc_total_income, axis=1)\n",
        "\n",
        "#set as categorical\n",
        "cat_columns = df.select_dtypes('object').columns\n",
        "df[cat_columns] = df[cat_columns].astype('category')\n",
        "\n",
        "display(df.info())\n",
        "#df.head() "
      ],
      "execution_count": 179,
      "outputs": [
        {
          "output_type": "stream",
          "text": [
            "<class 'pandas.core.frame.DataFrame'>\n",
            "Int64Index: 8649 entries, 0 to 8706\n",
            "Data columns (total 11 columns):\n",
            " #   Column          Non-Null Count  Dtype   \n",
            "---  ------          --------------  -----   \n",
            " 0   University      8649 non-null   category\n",
            " 1   Department      8649 non-null   category\n",
            " 2   Overall Pay     8649 non-null   float64 \n",
            " 3   LW Ratio        8649 non-null   float64 \n",
            " 4   Academic Year   8649 non-null   category\n",
            " 5   Program Year    8649 non-null   int64   \n",
            " 6   12 M Gross Pay  8649 non-null   float64 \n",
            " 7   9 M Gross Pay   8649 non-null   float64 \n",
            " 8   3 M Gross Pay   8649 non-null   float64 \n",
            " 9   Fees            8649 non-null   float64 \n",
            " 10  Total Income    8649 non-null   float64 \n",
            "dtypes: category(3), float64(7), int64(1)\n",
            "memory usage: 775.7 KB\n"
          ],
          "name": "stdout"
        },
        {
          "output_type": "display_data",
          "data": {
            "text/plain": [
              "None"
            ]
          },
          "metadata": {
            "tags": []
          }
        }
      ]
    },
    {
      "cell_type": "code",
      "metadata": {
        "id": "7t3K8-1tK2hP",
        "colab_type": "code",
        "colab": {
          "base_uri": "https://localhost:8080/",
          "height": 294
        },
        "outputId": "108d8ab4-a4f2-4c93-c3e9-03334352d3b2"
      },
      "source": [
        "#get summary statistics for numeric columns\n",
        "display(df.describe())"
      ],
      "execution_count": 180,
      "outputs": [
        {
          "output_type": "display_data",
          "data": {
            "text/html": [
              "<div>\n",
              "<style scoped>\n",
              "    .dataframe tbody tr th:only-of-type {\n",
              "        vertical-align: middle;\n",
              "    }\n",
              "\n",
              "    .dataframe tbody tr th {\n",
              "        vertical-align: top;\n",
              "    }\n",
              "\n",
              "    .dataframe thead th {\n",
              "        text-align: right;\n",
              "    }\n",
              "</style>\n",
              "<table border=\"1\" class=\"dataframe\">\n",
              "  <thead>\n",
              "    <tr style=\"text-align: right;\">\n",
              "      <th></th>\n",
              "      <th>Overall Pay</th>\n",
              "      <th>LW Ratio</th>\n",
              "      <th>Program Year</th>\n",
              "      <th>12 M Gross Pay</th>\n",
              "      <th>9 M Gross Pay</th>\n",
              "      <th>3 M Gross Pay</th>\n",
              "      <th>Fees</th>\n",
              "      <th>Total Income</th>\n",
              "    </tr>\n",
              "  </thead>\n",
              "  <tbody>\n",
              "    <tr>\n",
              "      <th>count</th>\n",
              "      <td>8649.000000</td>\n",
              "      <td>8649.000000</td>\n",
              "      <td>8649.000000</td>\n",
              "      <td>8649.000000</td>\n",
              "      <td>8649.000000</td>\n",
              "      <td>8649.000000</td>\n",
              "      <td>8649.000000</td>\n",
              "      <td>8649.000000</td>\n",
              "    </tr>\n",
              "    <tr>\n",
              "      <th>mean</th>\n",
              "      <td>24539.589664</td>\n",
              "      <td>0.950874</td>\n",
              "      <td>1.801249</td>\n",
              "      <td>19446.599723</td>\n",
              "      <td>5535.731645</td>\n",
              "      <td>464.838710</td>\n",
              "      <td>907.580414</td>\n",
              "      <td>25447.170077</td>\n",
              "    </tr>\n",
              "    <tr>\n",
              "      <th>std</th>\n",
              "      <td>9661.409990</td>\n",
              "      <td>0.480941</td>\n",
              "      <td>1.514398</td>\n",
              "      <td>14546.471887</td>\n",
              "      <td>9556.222278</td>\n",
              "      <td>1849.474327</td>\n",
              "      <td>3702.375557</td>\n",
              "      <td>9395.574074</td>\n",
              "    </tr>\n",
              "    <tr>\n",
              "      <th>min</th>\n",
              "      <td>-37000.000000</td>\n",
              "      <td>-1.660000</td>\n",
              "      <td>0.000000</td>\n",
              "      <td>0.000000</td>\n",
              "      <td>0.000000</td>\n",
              "      <td>0.000000</td>\n",
              "      <td>0.000000</td>\n",
              "      <td>0.000000</td>\n",
              "    </tr>\n",
              "    <tr>\n",
              "      <th>25%</th>\n",
              "      <td>19007.000000</td>\n",
              "      <td>0.750000</td>\n",
              "      <td>1.000000</td>\n",
              "      <td>0.000000</td>\n",
              "      <td>0.000000</td>\n",
              "      <td>0.000000</td>\n",
              "      <td>0.000000</td>\n",
              "      <td>20000.000000</td>\n",
              "    </tr>\n",
              "    <tr>\n",
              "      <th>50%</th>\n",
              "      <td>25000.000000</td>\n",
              "      <td>1.050000</td>\n",
              "      <td>1.000000</td>\n",
              "      <td>24000.000000</td>\n",
              "      <td>0.000000</td>\n",
              "      <td>0.000000</td>\n",
              "      <td>0.000000</td>\n",
              "      <td>25800.000000</td>\n",
              "    </tr>\n",
              "    <tr>\n",
              "      <th>75%</th>\n",
              "      <td>30300.000000</td>\n",
              "      <td>1.280000</td>\n",
              "      <td>3.000000</td>\n",
              "      <td>30000.000000</td>\n",
              "      <td>13500.000000</td>\n",
              "      <td>0.000000</td>\n",
              "      <td>700.000000</td>\n",
              "      <td>30800.000000</td>\n",
              "    </tr>\n",
              "    <tr>\n",
              "      <th>max</th>\n",
              "      <td>90000.000000</td>\n",
              "      <td>4.500000</td>\n",
              "      <td>6.000000</td>\n",
              "      <td>100000.000000</td>\n",
              "      <td>90000.000000</td>\n",
              "      <td>55816.000000</td>\n",
              "      <td>93725.000000</td>\n",
              "      <td>112000.000000</td>\n",
              "    </tr>\n",
              "  </tbody>\n",
              "</table>\n",
              "</div>"
            ],
            "text/plain": [
              "        Overall Pay     LW Ratio  ...          Fees   Total Income\n",
              "count   8649.000000  8649.000000  ...   8649.000000    8649.000000\n",
              "mean   24539.589664     0.950874  ...    907.580414   25447.170077\n",
              "std     9661.409990     0.480941  ...   3702.375557    9395.574074\n",
              "min   -37000.000000    -1.660000  ...      0.000000       0.000000\n",
              "25%    19007.000000     0.750000  ...      0.000000   20000.000000\n",
              "50%    25000.000000     1.050000  ...      0.000000   25800.000000\n",
              "75%    30300.000000     1.280000  ...    700.000000   30800.000000\n",
              "max    90000.000000     4.500000  ...  93725.000000  112000.000000\n",
              "\n",
              "[8 rows x 8 columns]"
            ]
          },
          "metadata": {
            "tags": []
          }
        }
      ]
    },
    {
      "cell_type": "code",
      "metadata": {
        "id": "aY7tO0nANU0m",
        "colab_type": "code",
        "colab": {
          "base_uri": "https://localhost:8080/",
          "height": 611
        },
        "outputId": "6cf1a48a-de70-4a20-c7ad-a40fb4932987"
      },
      "source": [
        "#Visualisations\n",
        "\n",
        "plot_title = \"Distribution of Overall Pay for All PhDs\"\n",
        "ax = sns.distplot(df[\"Overall Pay\"], bins=10)\n",
        "ax.set_title(plot_title) \n",
        "plt.show() \n",
        "display(\"------------------------------------------\\n\")\n",
        "plot_title = \"Box Plots of Pay Parameters for All PhDs\"\n",
        "ax=sns.boxplot(data=df) \n",
        "ax.set_xticklabels(ax.get_xticklabels(), rotation=40, ha=\"right\")\n",
        "plt.tight_layout()\n",
        "ax.set_title(plot_title) \n",
        "plt.show()"
      ],
      "execution_count": 181,
      "outputs": [
        {
          "output_type": "display_data",
          "data": {
            "image/png": "[encoded data removed]",
            "text/plain": [
              "<Figure size 432x288 with 1 Axes>"
            ]
          },
          "metadata": {
            "tags": []
          }
        },
        {
          "output_type": "display_data",
          "data": {
            "application/vnd.google.colaboratory.intrinsic": {
              "type": "string"
            },
            "text/plain": [
              "'------------------------------------------\\n'"
            ]
          },
          "metadata": {
            "tags": []
          }
        },
        {
          "output_type": "display_data",
          "data": {
            "image/png": "[encoded data removed]",
            "text/plain": [
              "<Figure size 432x288 with 1 Axes>"
            ]
          },
          "metadata": {
            "tags": []
          }
        }
      ]
    },
    {
      "cell_type": "code",
      "metadata": {
        "id": "BUQxa8qIjpOM",
        "colab_type": "code",
        "colab": {
          "base_uri": "https://localhost:8080/",
          "height": 729
        },
        "outputId": "2f31db30-41fe-43fb-bbc2-32a7045ae7ff"
      },
      "source": [
        "\n",
        "#ignore program year of zero (NaNs)\n",
        "\n",
        "#top 10 universities for overall pay\n",
        "display(\"top 10 universities for median overall pay\")\n",
        "grp_data = df.groupby(\"University\")[\"Overall Pay\"].agg([min, np.median, max])\\\n",
        "        .sort_values(by=\"median\", ascending=False).reset_index().head(10)\n",
        "display(grp_data)\n",
        "\n",
        "display(\" bottom 10 universities for median overall pay\")\n",
        "grp_data = df.groupby(\"University\")[\"Overall Pay\"].agg([min, np.median, max])\\\n",
        "        .sort_values(by=\"median\", ascending=False).reset_index().tail(10)\n",
        "display(grp_data)\n"
      ],
      "execution_count": 182,
      "outputs": [
        {
          "output_type": "display_data",
          "data": {
            "application/vnd.google.colaboratory.intrinsic": {
              "type": "string"
            },
            "text/plain": [
              "'top 10 universities for median overall pay'"
            ]
          },
          "metadata": {
            "tags": []
          }
        },
        {
          "output_type": "display_data",
          "data": {
            "text/html": [
              "<div>\n",
              "<style scoped>\n",
              "    .dataframe tbody tr th:only-of-type {\n",
              "        vertical-align: middle;\n",
              "    }\n",
              "\n",
              "    .dataframe tbody tr th {\n",
              "        vertical-align: top;\n",
              "    }\n",
              "\n",
              "    .dataframe thead th {\n",
              "        text-align: right;\n",
              "    }\n",
              "</style>\n",
              "<table border=\"1\" class=\"dataframe\">\n",
              "  <thead>\n",
              "    <tr style=\"text-align: right;\">\n",
              "      <th></th>\n",
              "      <th>University</th>\n",
              "      <th>min</th>\n",
              "      <th>median</th>\n",
              "      <th>max</th>\n",
              "    </tr>\n",
              "  </thead>\n",
              "  <tbody>\n",
              "    <tr>\n",
              "      <th>0</th>\n",
              "      <td>Anna University</td>\n",
              "      <td>84000.0</td>\n",
              "      <td>84000.0</td>\n",
              "      <td>84000.0</td>\n",
              "    </tr>\n",
              "    <tr>\n",
              "      <th>1</th>\n",
              "      <td>University of Nebraska - Omaha (UNO)</td>\n",
              "      <td>75500.0</td>\n",
              "      <td>75500.0</td>\n",
              "      <td>75500.0</td>\n",
              "    </tr>\n",
              "    <tr>\n",
              "      <th>2</th>\n",
              "      <td>ETH</td>\n",
              "      <td>75000.0</td>\n",
              "      <td>75000.0</td>\n",
              "      <td>75000.0</td>\n",
              "    </tr>\n",
              "    <tr>\n",
              "      <th>3</th>\n",
              "      <td>Swiss Federal Institute of Technology in Zurich</td>\n",
              "      <td>69500.0</td>\n",
              "      <td>69500.0</td>\n",
              "      <td>69500.0</td>\n",
              "    </tr>\n",
              "    <tr>\n",
              "      <th>4</th>\n",
              "      <td>Aarhus University</td>\n",
              "      <td>63700.0</td>\n",
              "      <td>63700.0</td>\n",
              "      <td>63700.0</td>\n",
              "    </tr>\n",
              "    <tr>\n",
              "      <th>5</th>\n",
              "      <td>Norwegian University of Science and Technology</td>\n",
              "      <td>51142.0</td>\n",
              "      <td>56071.0</td>\n",
              "      <td>61000.0</td>\n",
              "    </tr>\n",
              "    <tr>\n",
              "      <th>6</th>\n",
              "      <td>Technical University of Denmark</td>\n",
              "      <td>56000.0</td>\n",
              "      <td>56000.0</td>\n",
              "      <td>56000.0</td>\n",
              "    </tr>\n",
              "    <tr>\n",
              "      <th>7</th>\n",
              "      <td>Ecole Polytechnique Federale de Lausanne</td>\n",
              "      <td>53600.0</td>\n",
              "      <td>53600.0</td>\n",
              "      <td>53600.0</td>\n",
              "    </tr>\n",
              "    <tr>\n",
              "      <th>8</th>\n",
              "      <td>Norwegian University of Life Sciences (NMBU)</td>\n",
              "      <td>53000.0</td>\n",
              "      <td>53000.0</td>\n",
              "      <td>53000.0</td>\n",
              "    </tr>\n",
              "    <tr>\n",
              "      <th>9</th>\n",
              "      <td>Norwegian University of Life Sciences</td>\n",
              "      <td>52000.0</td>\n",
              "      <td>52000.0</td>\n",
              "      <td>52000.0</td>\n",
              "    </tr>\n",
              "  </tbody>\n",
              "</table>\n",
              "</div>"
            ],
            "text/plain": [
              "                                        University      min   median      max\n",
              "0                                  Anna University  84000.0  84000.0  84000.0\n",
              "1             University of Nebraska - Omaha (UNO)  75500.0  75500.0  75500.0\n",
              "2                                              ETH  75000.0  75000.0  75000.0\n",
              "3  Swiss Federal Institute of Technology in Zurich  69500.0  69500.0  69500.0\n",
              "4                                Aarhus University  63700.0  63700.0  63700.0\n",
              "5   Norwegian University of Science and Technology  51142.0  56071.0  61000.0\n",
              "6                  Technical University of Denmark  56000.0  56000.0  56000.0\n",
              "7         Ecole Polytechnique Federale de Lausanne  53600.0  53600.0  53600.0\n",
              "8     Norwegian University of Life Sciences (NMBU)  53000.0  53000.0  53000.0\n",
              "9            Norwegian University of Life Sciences  52000.0  52000.0  52000.0"
            ]
          },
          "metadata": {
            "tags": []
          }
        },
        {
          "output_type": "display_data",
          "data": {
            "application/vnd.google.colaboratory.intrinsic": {
              "type": "string"
            },
            "text/plain": [
              "' bottom 10 universities for median overall pay'"
            ]
          },
          "metadata": {
            "tags": []
          }
        },
        {
          "output_type": "display_data",
          "data": {
            "text/html": [
              "<div>\n",
              "<style scoped>\n",
              "    .dataframe tbody tr th:only-of-type {\n",
              "        vertical-align: middle;\n",
              "    }\n",
              "\n",
              "    .dataframe tbody tr th {\n",
              "        vertical-align: top;\n",
              "    }\n",
              "\n",
              "    .dataframe thead th {\n",
              "        text-align: right;\n",
              "    }\n",
              "</style>\n",
              "<table border=\"1\" class=\"dataframe\">\n",
              "  <thead>\n",
              "    <tr style=\"text-align: right;\">\n",
              "      <th></th>\n",
              "      <th>University</th>\n",
              "      <th>min</th>\n",
              "      <th>median</th>\n",
              "      <th>max</th>\n",
              "    </tr>\n",
              "  </thead>\n",
              "  <tbody>\n",
              "    <tr>\n",
              "      <th>681</th>\n",
              "      <td>King Fahd University of Petroleum and Minerals</td>\n",
              "      <td>237.0</td>\n",
              "      <td>237.0</td>\n",
              "      <td>237.0</td>\n",
              "    </tr>\n",
              "    <tr>\n",
              "      <th>682</th>\n",
              "      <td>Scumbag college</td>\n",
              "      <td>8.0</td>\n",
              "      <td>8.0</td>\n",
              "      <td>8.0</td>\n",
              "    </tr>\n",
              "    <tr>\n",
              "      <th>683</th>\n",
              "      <td>Northcentral University</td>\n",
              "      <td>-250.0</td>\n",
              "      <td>-250.0</td>\n",
              "      <td>-250.0</td>\n",
              "    </tr>\n",
              "    <tr>\n",
              "      <th>684</th>\n",
              "      <td>DePaul University</td>\n",
              "      <td>-4600.0</td>\n",
              "      <td>-4600.0</td>\n",
              "      <td>-4600.0</td>\n",
              "    </tr>\n",
              "    <tr>\n",
              "      <th>685</th>\n",
              "      <td>HNGU UNIVERSITY PATAN</td>\n",
              "      <td>-10000.0</td>\n",
              "      <td>-10000.0</td>\n",
              "      <td>-10000.0</td>\n",
              "    </tr>\n",
              "    <tr>\n",
              "      <th>686</th>\n",
              "      <td>University of Windsor</td>\n",
              "      <td>-10000.0</td>\n",
              "      <td>-10000.0</td>\n",
              "      <td>-10000.0</td>\n",
              "    </tr>\n",
              "    <tr>\n",
              "      <th>687</th>\n",
              "      <td>University of Cambridge</td>\n",
              "      <td>-11129.0</td>\n",
              "      <td>-11129.0</td>\n",
              "      <td>-11129.0</td>\n",
              "    </tr>\n",
              "    <tr>\n",
              "      <th>688</th>\n",
              "      <td>Yale</td>\n",
              "      <td>-12000.0</td>\n",
              "      <td>-12000.0</td>\n",
              "      <td>-12000.0</td>\n",
              "    </tr>\n",
              "    <tr>\n",
              "      <th>689</th>\n",
              "      <td>Bharathiar</td>\n",
              "      <td>-20000.0</td>\n",
              "      <td>-20000.0</td>\n",
              "      <td>-20000.0</td>\n",
              "    </tr>\n",
              "    <tr>\n",
              "      <th>690</th>\n",
              "      <td>nit</td>\n",
              "      <td>-34210.0</td>\n",
              "      <td>-34210.0</td>\n",
              "      <td>-34210.0</td>\n",
              "    </tr>\n",
              "  </tbody>\n",
              "</table>\n",
              "</div>"
            ],
            "text/plain": [
              "                                         University      min   median      max\n",
              "681  King Fahd University of Petroleum and Minerals    237.0    237.0    237.0\n",
              "682                                 Scumbag college      8.0      8.0      8.0\n",
              "683                         Northcentral University   -250.0   -250.0   -250.0\n",
              "684                               DePaul University  -4600.0  -4600.0  -4600.0\n",
              "685                           HNGU UNIVERSITY PATAN -10000.0 -10000.0 -10000.0\n",
              "686                           University of Windsor -10000.0 -10000.0 -10000.0\n",
              "687                        University of Cambridge  -11129.0 -11129.0 -11129.0\n",
              "688                                            Yale -12000.0 -12000.0 -12000.0\n",
              "689                                     Bharathiar  -20000.0 -20000.0 -20000.0\n",
              "690                                            nit  -34210.0 -34210.0 -34210.0"
            ]
          },
          "metadata": {
            "tags": []
          }
        }
      ]
    },
    {
      "cell_type": "code",
      "metadata": {
        "id": "OfX_1zFU8Pje",
        "colab_type": "code",
        "colab": {
          "base_uri": "https://localhost:8080/",
          "height": 729
        },
        "outputId": "108e37c7-05fa-4439-c212-2bf89552008a"
      },
      "source": [
        "\n",
        "display(\"top 10 departments for median overall pay\")\n",
        "grp_data = df.groupby(\"Department\")[\"Overall Pay\"].agg([min, np.median, max])\\\n",
        "        .sort_values(by=\"median\", ascending=False).reset_index().head(10)\n",
        "display(grp_data)\n",
        "\n",
        "display(\"#bottom 10 departments for median overall pay\")\n",
        "grp_data = df.groupby(\"Department\")[\"Overall Pay\"].agg([min, np.median, max])\\\n",
        "        .sort_values(by=\"median\", ascending=False).reset_index().tail(10)\n",
        "display(grp_data)"
      ],
      "execution_count": 183,
      "outputs": [
        {
          "output_type": "display_data",
          "data": {
            "application/vnd.google.colaboratory.intrinsic": {
              "type": "string"
            },
            "text/plain": [
              "'top 10 departments for median overall pay'"
            ]
          },
          "metadata": {
            "tags": []
          }
        },
        {
          "output_type": "display_data",
          "data": {
            "text/html": [
              "<div>\n",
              "<style scoped>\n",
              "    .dataframe tbody tr th:only-of-type {\n",
              "        vertical-align: middle;\n",
              "    }\n",
              "\n",
              "    .dataframe tbody tr th {\n",
              "        vertical-align: top;\n",
              "    }\n",
              "\n",
              "    .dataframe thead th {\n",
              "        text-align: right;\n",
              "    }\n",
              "</style>\n",
              "<table border=\"1\" class=\"dataframe\">\n",
              "  <thead>\n",
              "    <tr style=\"text-align: right;\">\n",
              "      <th></th>\n",
              "      <th>Department</th>\n",
              "      <th>min</th>\n",
              "      <th>median</th>\n",
              "      <th>max</th>\n",
              "    </tr>\n",
              "  </thead>\n",
              "  <tbody>\n",
              "    <tr>\n",
              "      <th>0</th>\n",
              "      <td>environment</td>\n",
              "      <td>87467.0</td>\n",
              "      <td>87467.0</td>\n",
              "      <td>87467.0</td>\n",
              "    </tr>\n",
              "    <tr>\n",
              "      <th>1</th>\n",
              "      <td>civil</td>\n",
              "      <td>84000.0</td>\n",
              "      <td>84000.0</td>\n",
              "      <td>84000.0</td>\n",
              "    </tr>\n",
              "    <tr>\n",
              "      <th>2</th>\n",
              "      <td>Applied Math w/focus on Financial Derivatives</td>\n",
              "      <td>75500.0</td>\n",
              "      <td>75500.0</td>\n",
              "      <td>75500.0</td>\n",
              "    </tr>\n",
              "    <tr>\n",
              "      <th>3</th>\n",
              "      <td>Department of Clinical Medicine</td>\n",
              "      <td>63700.0</td>\n",
              "      <td>63700.0</td>\n",
              "      <td>63700.0</td>\n",
              "    </tr>\n",
              "    <tr>\n",
              "      <th>4</th>\n",
              "      <td>Wind Energy</td>\n",
              "      <td>56000.0</td>\n",
              "      <td>56000.0</td>\n",
              "      <td>56000.0</td>\n",
              "    </tr>\n",
              "    <tr>\n",
              "      <th>5</th>\n",
              "      <td>Department of physics and astronomy</td>\n",
              "      <td>56000.0</td>\n",
              "      <td>56000.0</td>\n",
              "      <td>56000.0</td>\n",
              "    </tr>\n",
              "    <tr>\n",
              "      <th>6</th>\n",
              "      <td>Doctoral Program Computer Science</td>\n",
              "      <td>53600.0</td>\n",
              "      <td>53600.0</td>\n",
              "      <td>53600.0</td>\n",
              "    </tr>\n",
              "    <tr>\n",
              "      <th>7</th>\n",
              "      <td>Engineering Education</td>\n",
              "      <td>52695.0</td>\n",
              "      <td>52695.0</td>\n",
              "      <td>52695.0</td>\n",
              "    </tr>\n",
              "    <tr>\n",
              "      <th>8</th>\n",
              "      <td>neurphysiology</td>\n",
              "      <td>52000.0</td>\n",
              "      <td>52000.0</td>\n",
              "      <td>52000.0</td>\n",
              "    </tr>\n",
              "    <tr>\n",
              "      <th>9</th>\n",
              "      <td>Doctorate</td>\n",
              "      <td>51200.0</td>\n",
              "      <td>51200.0</td>\n",
              "      <td>51200.0</td>\n",
              "    </tr>\n",
              "  </tbody>\n",
              "</table>\n",
              "</div>"
            ],
            "text/plain": [
              "                                       Department      min   median      max\n",
              "0                                     environment  87467.0  87467.0  87467.0\n",
              "1                                           civil  84000.0  84000.0  84000.0\n",
              "2  Applied Math w/focus on Financial Derivatives   75500.0  75500.0  75500.0\n",
              "3                 Department of Clinical Medicine  63700.0  63700.0  63700.0\n",
              "4                                     Wind Energy  56000.0  56000.0  56000.0\n",
              "5             Department of physics and astronomy  56000.0  56000.0  56000.0\n",
              "6               Doctoral Program Computer Science  53600.0  53600.0  53600.0\n",
              "7                          Engineering Education   52695.0  52695.0  52695.0\n",
              "8                                  neurphysiology  52000.0  52000.0  52000.0\n",
              "9                                       Doctorate  51200.0  51200.0  51200.0"
            ]
          },
          "metadata": {
            "tags": []
          }
        },
        {
          "output_type": "display_data",
          "data": {
            "application/vnd.google.colaboratory.intrinsic": {
              "type": "string"
            },
            "text/plain": [
              "'#bottom 10 departments for median overall pay'"
            ]
          },
          "metadata": {
            "tags": []
          }
        },
        {
          "output_type": "display_data",
          "data": {
            "text/html": [
              "<div>\n",
              "<style scoped>\n",
              "    .dataframe tbody tr th:only-of-type {\n",
              "        vertical-align: middle;\n",
              "    }\n",
              "\n",
              "    .dataframe tbody tr th {\n",
              "        vertical-align: top;\n",
              "    }\n",
              "\n",
              "    .dataframe thead th {\n",
              "        text-align: right;\n",
              "    }\n",
              "</style>\n",
              "<table border=\"1\" class=\"dataframe\">\n",
              "  <thead>\n",
              "    <tr style=\"text-align: right;\">\n",
              "      <th></th>\n",
              "      <th>Department</th>\n",
              "      <th>min</th>\n",
              "      <th>median</th>\n",
              "      <th>max</th>\n",
              "    </tr>\n",
              "  </thead>\n",
              "  <tbody>\n",
              "    <tr>\n",
              "      <th>2447</th>\n",
              "      <td>Forest and Conservation Sciences</td>\n",
              "      <td>-5000.0</td>\n",
              "      <td>-5000.0</td>\n",
              "      <td>-5000.0</td>\n",
              "    </tr>\n",
              "    <tr>\n",
              "      <th>2448</th>\n",
              "      <td>petroleum engineering</td>\n",
              "      <td>-18000.0</td>\n",
              "      <td>-8175.0</td>\n",
              "      <td>1650.0</td>\n",
              "    </tr>\n",
              "    <tr>\n",
              "      <th>2449</th>\n",
              "      <td>PH.D</td>\n",
              "      <td>-10000.0</td>\n",
              "      <td>-10000.0</td>\n",
              "      <td>-10000.0</td>\n",
              "    </tr>\n",
              "    <tr>\n",
              "      <th>2450</th>\n",
              "      <td>Science and letters</td>\n",
              "      <td>-10000.0</td>\n",
              "      <td>-10000.0</td>\n",
              "      <td>-10000.0</td>\n",
              "    </tr>\n",
              "    <tr>\n",
              "      <th>2451</th>\n",
              "      <td>Education /PhD full time (Creativities)</td>\n",
              "      <td>-11129.0</td>\n",
              "      <td>-11129.0</td>\n",
              "      <td>-11129.0</td>\n",
              "    </tr>\n",
              "    <tr>\n",
              "      <th>2452</th>\n",
              "      <td>Information technology</td>\n",
              "      <td>-12500.0</td>\n",
              "      <td>-12500.0</td>\n",
              "      <td>-12500.0</td>\n",
              "    </tr>\n",
              "    <tr>\n",
              "      <th>2453</th>\n",
              "      <td>aeroastro</td>\n",
              "      <td>-15000.0</td>\n",
              "      <td>-15000.0</td>\n",
              "      <td>-15000.0</td>\n",
              "    </tr>\n",
              "    <tr>\n",
              "      <th>2454</th>\n",
              "      <td>Life science</td>\n",
              "      <td>-20000.0</td>\n",
              "      <td>-20000.0</td>\n",
              "      <td>-20000.0</td>\n",
              "    </tr>\n",
              "    <tr>\n",
              "      <th>2455</th>\n",
              "      <td>Computer</td>\n",
              "      <td>-25000.0</td>\n",
              "      <td>-25000.0</td>\n",
              "      <td>-25000.0</td>\n",
              "    </tr>\n",
              "    <tr>\n",
              "      <th>2456</th>\n",
              "      <td>Chemical, Biological and Environmental Enginee...</td>\n",
              "      <td>-31790.0</td>\n",
              "      <td>-31790.0</td>\n",
              "      <td>-31790.0</td>\n",
              "    </tr>\n",
              "  </tbody>\n",
              "</table>\n",
              "</div>"
            ],
            "text/plain": [
              "                                             Department  ...      max\n",
              "2447                   Forest and Conservation Sciences  ...  -5000.0\n",
              "2448                              petroleum engineering  ...   1650.0\n",
              "2449                                               PH.D  ... -10000.0\n",
              "2450                                Science and letters  ... -10000.0\n",
              "2451            Education /PhD full time (Creativities)  ... -11129.0\n",
              "2452                            Information technology   ... -12500.0\n",
              "2453                                          aeroastro  ... -15000.0\n",
              "2454                                       Life science  ... -20000.0\n",
              "2455                                           Computer  ... -25000.0\n",
              "2456  Chemical, Biological and Environmental Enginee...  ... -31790.0\n",
              "\n",
              "[10 rows x 4 columns]"
            ]
          },
          "metadata": {
            "tags": []
          }
        }
      ]
    },
    {
      "cell_type": "code",
      "metadata": {
        "id": "l6GB0U9g8FqR",
        "colab_type": "code",
        "colab": {
          "base_uri": "https://localhost:8080/",
          "height": 821
        },
        "outputId": "caf2368c-a0c1-49e5-d90d-29723748a9f2"
      },
      "source": [
        "\n",
        "plot_title = \"Highest pay by Program Year\"\n",
        "grp_data = df.groupby(\"Program Year\")[money_columns].max().reset_index()\n",
        "ax = sns.scatterplot(x=\"Program Year\", y=\"Overall Pay\", data=grp_data)\n",
        "#ax.set_xticklabels(ax.get_xticklabels(), rotation=40, ha=\"right\")\n",
        "ax.set_title(plot_title) \n",
        "plt.show()\n",
        "display(grp_data)\n",
        "\n",
        "plot_title = \"Highest pay by Academic Year\"\n",
        "grp_data = df.groupby(\"Academic Year\")[money_columns].max().reset_index()\n",
        "ax = sns.scatterplot(x=\"Academic Year\", y=\"Overall Pay\", data=grp_data)\n",
        "ax.set_xticklabels(ax.get_xticklabels(), rotation=40, ha=\"right\")\n",
        "ax.set_title(plot_title) \n",
        "plt.show()"
      ],
      "execution_count": 184,
      "outputs": [
        {
          "output_type": "display_data",
          "data": {
            "image/png": "[encoded data removed]",
            "text/plain": [
              "<Figure size 432x288 with 1 Axes>"
            ]
          },
          "metadata": {
            "tags": []
          }
        },
        {
          "output_type": "display_data",
          "data": {
            "text/html": [
              "<div>\n",
              "<style scoped>\n",
              "    .dataframe tbody tr th:only-of-type {\n",
              "        vertical-align: middle;\n",
              "    }\n",
              "\n",
              "    .dataframe tbody tr th {\n",
              "        vertical-align: top;\n",
              "    }\n",
              "\n",
              "    .dataframe thead th {\n",
              "        text-align: right;\n",
              "    }\n",
              "</style>\n",
              "<table border=\"1\" class=\"dataframe\">\n",
              "  <thead>\n",
              "    <tr style=\"text-align: right;\">\n",
              "      <th></th>\n",
              "      <th>Program Year</th>\n",
              "      <th>Overall Pay</th>\n",
              "      <th>12 M Gross Pay</th>\n",
              "      <th>9 M Gross Pay</th>\n",
              "      <th>3 M Gross Pay</th>\n",
              "      <th>Fees</th>\n",
              "    </tr>\n",
              "  </thead>\n",
              "  <tbody>\n",
              "    <tr>\n",
              "      <th>0</th>\n",
              "      <td>0</td>\n",
              "      <td>90000.0</td>\n",
              "      <td>90000.0</td>\n",
              "      <td>90000.0</td>\n",
              "      <td>24000.0</td>\n",
              "      <td>50000.0</td>\n",
              "    </tr>\n",
              "    <tr>\n",
              "      <th>1</th>\n",
              "      <td>1</td>\n",
              "      <td>90000.0</td>\n",
              "      <td>100000.0</td>\n",
              "      <td>87467.0</td>\n",
              "      <td>55816.0</td>\n",
              "      <td>93725.0</td>\n",
              "    </tr>\n",
              "    <tr>\n",
              "      <th>2</th>\n",
              "      <td>2</td>\n",
              "      <td>84000.0</td>\n",
              "      <td>64500.0</td>\n",
              "      <td>67000.0</td>\n",
              "      <td>45000.0</td>\n",
              "      <td>54000.0</td>\n",
              "    </tr>\n",
              "    <tr>\n",
              "      <th>3</th>\n",
              "      <td>3</td>\n",
              "      <td>77400.0</td>\n",
              "      <td>100000.0</td>\n",
              "      <td>77400.0</td>\n",
              "      <td>16548.0</td>\n",
              "      <td>40000.0</td>\n",
              "    </tr>\n",
              "    <tr>\n",
              "      <th>4</th>\n",
              "      <td>4</td>\n",
              "      <td>71000.0</td>\n",
              "      <td>71000.0</td>\n",
              "      <td>37000.0</td>\n",
              "      <td>35000.0</td>\n",
              "      <td>19000.0</td>\n",
              "    </tr>\n",
              "    <tr>\n",
              "      <th>5</th>\n",
              "      <td>5</td>\n",
              "      <td>51900.0</td>\n",
              "      <td>53220.0</td>\n",
              "      <td>37000.0</td>\n",
              "      <td>10000.0</td>\n",
              "      <td>24000.0</td>\n",
              "    </tr>\n",
              "    <tr>\n",
              "      <th>6</th>\n",
              "      <td>6</td>\n",
              "      <td>43556.0</td>\n",
              "      <td>43000.0</td>\n",
              "      <td>32868.0</td>\n",
              "      <td>12000.0</td>\n",
              "      <td>36000.0</td>\n",
              "    </tr>\n",
              "  </tbody>\n",
              "</table>\n",
              "</div>"
            ],
            "text/plain": [
              "   Program Year  Overall Pay  ...  3 M Gross Pay     Fees\n",
              "0             0      90000.0  ...        24000.0  50000.0\n",
              "1             1      90000.0  ...        55816.0  93725.0\n",
              "2             2      84000.0  ...        45000.0  54000.0\n",
              "3             3      77400.0  ...        16548.0  40000.0\n",
              "4             4      71000.0  ...        35000.0  19000.0\n",
              "5             5      51900.0  ...        10000.0  24000.0\n",
              "6             6      43556.0  ...        12000.0  36000.0\n",
              "\n",
              "[7 rows x 6 columns]"
            ]
          },
          "metadata": {
            "tags": []
          }
        },
        {
          "output_type": "display_data",
          "data": {
            "image/png": "[encoded data removed]",
            "text/plain": [
              "<Figure size 432x288 with 1 Axes>"
            ]
          },
          "metadata": {
            "tags": []
          }
        }
      ]
    },
    {
      "cell_type": "code",
      "metadata": {
        "id": "nqA44i2OW8Zr",
        "colab_type": "code",
        "colab": {}
      },
      "source": [
        "#TODO: some overall pay are negative (mostly because fees exceed pay)\n",
        "#TODO: clustering\n",
        "\n"
      ],
      "execution_count": 185,
      "outputs": []
    }
  ]
}