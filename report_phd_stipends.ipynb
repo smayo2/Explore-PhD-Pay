{
  "nbformat": 4,
  "nbformat_minor": 0,
  "metadata": {
    "colab": {
      "name": "report_phd_stipends.ipynb",
      "provenance": [],
      "collapsed_sections": [],
      "authorship_tag": "ABX9TyOIG5SxlhekGrJ1RN37k/QW",
      "include_colab_link": true
    },
    "kernelspec": {
      "name": "python3",
      "display_name": "Python 3"
    }
  },
  "cells": [
    {
      "cell_type": "markdown",
      "metadata": {
        "id": "view-in-github",
        "colab_type": "text"
      },
      "source": [
        "<a href=\"https://colab.research.google.com/github/smayo2/Explore-PhD-Pay/blob/master/report_phd_stipends.ipynb\" target=\"_parent\"><img src=\"https://colab.research.google.com/assets/colab-badge.svg\" alt=\"Open In Colab\"/></a>"
      ]
    },
    {
      "cell_type": "code",
      "metadata": {
        "id": "B3H2h4L8PBRZ",
        "colab_type": "code",
        "colab": {}
      },
      "source": [
        ""
      ],
      "execution_count": null,
      "outputs": []
    },
    {
      "cell_type": "markdown",
      "metadata": {
        "id": "VQ0vZLutPynm",
        "colab_type": "text"
      },
      "source": [
        "\t\t\t\t\t\t\t\t\n",
        "1) What is the size of the data set, and was any data excluded?\t\t\n",
        "- Initial size of data was (8707, 11)\n",
        "\n",
        "2) What data cleaning steps did you perform and why?\t\n",
        "- Handling null values. For example, some null values in the 12 month pay column indicated that the column was not applicable for that entry, so they were replaced by zero. \t\t\t\t\t\t\t\n",
        "3) Are there any outliers that should be treated separately? And how did you treat them?\t\n",
        "- Outliers were found in the pay columns. I consider any absolute standardized value as an outlier if it is greater that 3 times the variance. Outliers were dropped as a first step.  \t\t\t\t\t\t\t\n",
        "4) What questions did you ask and what interesting relationships, subsets, or clusters can you find?\t\n",
        "- What is the distribution and range of overall pay and total income?\n",
        "- What Universities and courses (Departments) pay highest and lowest? \n",
        "- What is the variation of pay with program year?\n",
        "- What is the variation of pay over the past academic years?\t\t\t\n",
        "5) How much time did you spend on this?\t\n",
        "- Over 15 hours, distributed over days\n",
        "\n",
        "N.B. Other parts of the report and visualizations are in the Jupyter notebook"
      ]
    },
    {
      "cell_type": "markdown",
      "metadata": {
        "id": "rv0jhZ9OPFBf",
        "colab_type": "text"
      },
      "source": [
        ""
      ]
    }
  ]
}